{
  "nbformat": 4,
  "nbformat_minor": 0,
  "metadata": {
    "colab": {
      "provenance": []
    },
    "kernelspec": {
      "name": "python3",
      "display_name": "Python 3"
    },
    "language_info": {
      "name": "python"
    }
  },
  "cells": [
    {
      "cell_type": "markdown",
      "source": [
        "Execute the cell below to connect your Google Drive"
      ],
      "metadata": {
        "id": "ejqrQiaX6rAG"
      }
    },
    {
      "cell_type": "code",
      "source": [
        "from google.colab import drive\n",
        "drive.mount('/content/drive')"
      ],
      "metadata": {
        "id": "nWGx00pS6Udn"
      },
      "execution_count": null,
      "outputs": []
    },
    {
      "cell_type": "code",
      "source": [
        "from bs4 import BeautifulSoup\n",
        "from requests import get"
      ],
      "metadata": {
        "id": "4MBpqg3K7Qmq"
      },
      "execution_count": 3,
      "outputs": []
    },
    {
      "cell_type": "code",
      "source": [
        "with get('https://boards.4channel.org/an/thread/4381704/i-love-crows-so-much-they-seem-so-clever-and') as page:\n",
        "  soup = BeautifulSoup(page.text, 'html.parser')\n",
        "  with open('links.txt', 'w') as f:\n",
        "    for anchor in soup.find_all('a', {'class': 'fileThumb'}):\n",
        "      f.write('https:'+anchor.get('href', '/')+'\\n')"
      ],
      "metadata": {
        "id": "Q_Z6hpnP8Ri8"
      },
      "execution_count": 16,
      "outputs": []
    },
    {
      "cell_type": "code",
      "source": [
        "!wget -i links.txt -P '/content/drive/Shareddrives/Tele/test'"
      ],
      "metadata": {
        "id": "64SA-ry3_LWc"
      },
      "execution_count": null,
      "outputs": []
    }
  ]
}